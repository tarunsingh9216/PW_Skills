{
  "nbformat": 4,
  "nbformat_minor": 0,
  "metadata": {
    "colab": {
      "provenance": []
    },
    "kernelspec": {
      "name": "python3",
      "display_name": "Python 3"
    },
    "language_info": {
      "name": "python"
    }
  },
  "cells": [
    {
      "cell_type": "markdown",
      "source": [
        "#1) Explain the key features of Python that make it a popular choice for programming\n",
        "\n",
        "Answer -\n",
        "\n",
        "Key Features of python -  \n",
        "1) Python use simple, readable syntax that are easy to understand for the user.  \n",
        "2) You don't need to define the variables as pyhton define them at runtime.  \n",
        "3) Python provide a rich set of pre-define functions for complex computations.  \n",
        "4) Python also provide large number of libraries (numpy, pandas) which helps in to do complex task in time.  \n",
        "5) Python can be used in various fields like web development, data science, machine learning, automation, scripting, cybersecurity, and more.  "
      ],
      "metadata": {
        "id": "8ryaSPDrjtCB"
      }
    },
    {
      "cell_type": "markdown",
      "source": [
        "#2) Describe the role of predefined keywords in Python and provide examples of how they are used in a program  \n",
        "\n",
        "Answer -  \n",
        "Role of Predefined Keywords in Python.  \n",
        "1) Prdefined keywords are reserved words that form the core syntex of the language  \n",
        "2) They are used to print the output, take the input, loops, conditions, functions etc.  \n",
        "3) Keywords can not be used as variable name or function names"
      ],
      "metadata": {
        "id": "d6vJUxZymQoW"
      }
    },
    {
      "cell_type": "code",
      "source": [
        "# Exaples of Python Predefine Keywords.\n",
        "\n",
        "print(\"Hellow\") # print is used to show the output on the console\n",
        "input(\"Enter you age\") # input is used to take the input from the user\n",
        "\n",
        "if(True):  # if is use as conditional statement , True is also a predefine keyword\n",
        "  print(\"true\")\n",
        "else:\n",
        "  print(\"false\")\n",
        "\n",
        "for i in range(3): # for i use for loop(for iterating)\n",
        "  print(\"count\")\n"
      ],
      "metadata": {
        "id": "7L5I0FuQJH_H"
      },
      "execution_count": null,
      "outputs": []
    },
    {
      "cell_type": "markdown",
      "source": [
        "#3) Compare and contrast mutable and immutable objects in Python with examples.\n",
        "\n",
        "Answer -  \n",
        "\n",
        "1) Mutable Objects - Objects whose values can be changed after they are created.  \n",
        "2) Immutable Ojects - Ojects whose values can not be changed after they are created.\n",
        "\n",
        "# Comparision  \n",
        "\n",
        "Mutable -  \n",
        "1) object can be changed after created  \n",
        "2) more memory efficient when frequent updates needed  \n",
        "3) generaly use when data needs to be updated or modified  \n",
        "\n",
        "Immutable -  \n",
        "1) object can not be changed after created  \n",
        "2) May use more memory if frequently modified  \n",
        "3) use when when data should remain constant or hashable"
      ],
      "metadata": {
        "id": "NNQiwwx6pinJ"
      }
    },
    {
      "cell_type": "code",
      "source": [
        "# Mutable Objects -\n",
        "\n",
        "my_lst = [1, 2, 3, 4, 5]  # in mutable objects you can chage the value like in the list and its elements.\n",
        "my_lst[0] = 10\n",
        "print(my_lst[0])\n",
        "\n",
        "# Immutable Objects -\n",
        "\n",
        "text = \"Object\"\n",
        "text[0] = \"A\"  # this give me error because string is an immutable object you can not change it.\n",
        "print(text[0])\n",
        "\n",
        "\n"
      ],
      "metadata": {
        "colab": {
          "base_uri": "https://localhost:8080/",
          "height": 228
        },
        "id": "Aq9YBTjeJIIy",
        "outputId": "519dbc1b-fddf-4ea8-9606-6ab2d322ac74"
      },
      "execution_count": null,
      "outputs": [
        {
          "output_type": "stream",
          "name": "stdout",
          "text": [
            "10\n"
          ]
        },
        {
          "output_type": "error",
          "ename": "TypeError",
          "evalue": "'str' object does not support item assignment",
          "traceback": [
            "\u001b[0;31m---------------------------------------------------------------------------\u001b[0m",
            "\u001b[0;31mTypeError\u001b[0m                                 Traceback (most recent call last)",
            "\u001b[0;32m<ipython-input-2-eb9efdf6691d>\u001b[0m in \u001b[0;36m<cell line: 0>\u001b[0;34m()\u001b[0m\n\u001b[1;32m      8\u001b[0m \u001b[0;34m\u001b[0m\u001b[0m\n\u001b[1;32m      9\u001b[0m \u001b[0mtext\u001b[0m \u001b[0;34m=\u001b[0m \u001b[0;34m\"Object\"\u001b[0m\u001b[0;34m\u001b[0m\u001b[0;34m\u001b[0m\u001b[0m\n\u001b[0;32m---> 10\u001b[0;31m \u001b[0mtext\u001b[0m\u001b[0;34m[\u001b[0m\u001b[0;36m0\u001b[0m\u001b[0;34m]\u001b[0m \u001b[0;34m=\u001b[0m \u001b[0;34m\"A\"\u001b[0m\u001b[0;34m\u001b[0m\u001b[0;34m\u001b[0m\u001b[0m\n\u001b[0m\u001b[1;32m     11\u001b[0m \u001b[0mprint\u001b[0m\u001b[0;34m(\u001b[0m\u001b[0mtext\u001b[0m\u001b[0;34m[\u001b[0m\u001b[0;36m0\u001b[0m\u001b[0;34m]\u001b[0m\u001b[0;34m)\u001b[0m\u001b[0;34m\u001b[0m\u001b[0;34m\u001b[0m\u001b[0m\n\u001b[1;32m     12\u001b[0m \u001b[0;34m\u001b[0m\u001b[0m\n",
            "\u001b[0;31mTypeError\u001b[0m: 'str' object does not support item assignment"
          ]
        }
      ]
    },
    {
      "cell_type": "markdown",
      "source": [
        "# 4)  Discuss the different types of operators in Python and provide examples of how they are used.  \n",
        "\n",
        "Answer -  \n",
        "\n",
        "1) Arithmetic Operators - These operators are used to perform mathematical operatons.  \n",
        "2) Assignment Operators - These operators are used to assign value to the variables.  \n",
        "3) Comparison Operators - These operators are used to compare the values and return the boolen(true or false).  \n",
        "4) Logical Operators - These operators are used to combine multiple conditions.  \n",
        "5) Bitwise Operators - These operators are used to perform task on binary numbers.  "
      ],
      "metadata": {
        "id": "O47FnkVht5W7"
      }
    },
    {
      "cell_type": "code",
      "source": [
        "# Arithmetric Operators -\n",
        "\n",
        "a = 10\n",
        "b = 20\n",
        "\n",
        "print(a+b) # Addition\n",
        "print(a-b) # Subtraction\n",
        "print(a*b) # Multiplaction\n",
        "print(a/b) # Division\n",
        "print(a%b) # Modulus (reminder)\n",
        "print(a**b) # Exponentiation\n",
        "\n",
        "\n",
        "# Assignment Operators -\n",
        "\n",
        "c = 50 # assign 50 to c\n",
        "c += 10 # c = c + 10\n",
        "\n",
        "\n",
        "# Comparison Operators -\n",
        "\n",
        "print(a==b) # Equal to\n",
        "print(a!=b) # Not equal to\n",
        "print(a>b) # Greater than\n",
        "print(a<b) # Less than\n",
        "print(a>=b) # Greater than or equal to\n",
        "print(a<=b) # Less than or equal to\n",
        "\n",
        "\n",
        "\n",
        "# Logical Operators -\n",
        "\n",
        "if a>b and a<c: # true if both conditions are true\n",
        "  print(True)\n",
        "elif a>b or a<c: # true if only one condition is true\n",
        "  print(False)\n",
        "\n",
        "\n",
        "# Bitwise Operators -\n",
        "\n",
        "print(5&3)\n",
        "print(5|3)\n",
        "print(5^3)\n",
        "print(~5)\n",
        "print(5<<1)\n",
        "print(5>>1)\n"
      ],
      "metadata": {
        "colab": {
          "base_uri": "https://localhost:8080/"
        },
        "id": "XZdGUXLzJIM1",
        "outputId": "319dfb53-6625-4534-f56b-77414779a249"
      },
      "execution_count": 6,
      "outputs": [
        {
          "output_type": "stream",
          "name": "stdout",
          "text": [
            "30\n",
            "-10\n",
            "200\n",
            "0.5\n",
            "10\n",
            "100000000000000000000\n",
            "False\n",
            "True\n",
            "False\n",
            "True\n",
            "False\n",
            "True\n",
            "False\n",
            "1\n",
            "7\n",
            "6\n",
            "-6\n",
            "10\n",
            "2\n"
          ]
        }
      ]
    },
    {
      "cell_type": "markdown",
      "source": [
        "# 5) Explain the concept of type casting in Python with examples.  \n",
        "\n",
        "Answer -  \n",
        "\n",
        "Type casting in python means converting the ond data type to another. type casting majorly use in when you want to perform operations between different data types.\n",
        "\n"
      ],
      "metadata": {
        "id": "Nmv8hH4XXn6H"
      }
    },
    {
      "cell_type": "code",
      "source": [
        "# Type Casting Examples -\n",
        "\n",
        "x = 3.5\n",
        "y = int(x) # convert float value to int\n",
        "print(y)\n",
        "\n",
        "a = 50\n",
        "b = str(a) # convert int to string\n",
        "print(b)\n",
        "type(b)\n",
        "\n",
        "d = \"10000\"\n",
        "e = int(d) # convert string to int\n",
        "print(e)"
      ],
      "metadata": {
        "id": "kMDtNsX2JIP9",
        "colab": {
          "base_uri": "https://localhost:8080/"
        },
        "outputId": "a8e56184-b501-4096-b795-47da094aa443"
      },
      "execution_count": 11,
      "outputs": [
        {
          "output_type": "stream",
          "name": "stdout",
          "text": [
            "3\n",
            "50\n",
            "10000\n"
          ]
        }
      ]
    },
    {
      "cell_type": "markdown",
      "source": [
        "# 6) How do conditional statements work in Python? Illustrate with examples  \n",
        "\n",
        "Answer -  \n",
        "\n",
        "Conditional statements are used to make decisions in a program by checking whether a condition is True or False."
      ],
      "metadata": {
        "id": "Lq5lJAtofU5W"
      }
    },
    {
      "cell_type": "code",
      "source": [
        "# Conditional Statements\n",
        "\n",
        "# if statements\n",
        "x=10\n",
        "if x >5 :\n",
        "  print(\"X is greater than 5\")\n",
        "\n",
        "\n",
        "# if-else statements\n",
        "y=20\n",
        "if y>10:\n",
        "  print(\"Good Score\")\n",
        "else:\n",
        "  print(\"Bad Score\")\n",
        "\n",
        "# if-elif-else statements\n",
        "x=0\n",
        "if x>0:\n",
        "  print(\"Positive Number\")\n",
        "elif x<0:\n",
        "  print(\"Negative Number\")\n",
        "else:\n",
        "  print(\"Zero\")"
      ],
      "metadata": {
        "id": "oEcnv9fXJITU",
        "colab": {
          "base_uri": "https://localhost:8080/"
        },
        "outputId": "fd0bce78-77c4-43a8-eeea-034138cce022"
      },
      "execution_count": 13,
      "outputs": [
        {
          "output_type": "stream",
          "name": "stdout",
          "text": [
            "X is greater than 5\n",
            "Good Score\n",
            "Zero\n"
          ]
        }
      ]
    },
    {
      "cell_type": "markdown",
      "source": [
        "# 7) Describe the different types of loops in Python and their use cases with examples.  \n",
        "\n",
        "Answer -  \n",
        "\n",
        "Loops are used to repeat a block of code multiple times until a condition is met or a sequence is fully traversed. They help reduce repetition and make the code more efficient."
      ],
      "metadata": {
        "id": "0MRlpYNFhV9G"
      }
    },
    {
      "cell_type": "code",
      "source": [
        "# For Loop\n",
        "# It is used to iterate over a sequence (like a list, tuple, string, or range).\n",
        "\n",
        "for i in range(0, 11):\n",
        "  print(i)\n",
        "\n",
        "# While Loop\n",
        "# It is generaly a condition base loop and use when we don’t know how many times to loop.\n",
        "\n",
        "i = 1\n",
        "while i <= 5:\n",
        "    print(i)\n",
        "    i += 1\n",
        "\n",
        "# Nested Loop\n",
        "# It is loop inside loop we use that when we want multi-level iterations\n",
        "\n",
        "for i in range(5):\n",
        "  for j in range(5):\n",
        "    print(\"*\", end='')\n",
        "  print()\n",
        "\n"
      ],
      "metadata": {
        "id": "2-P5u_94JIW_",
        "colab": {
          "base_uri": "https://localhost:8080/"
        },
        "collapsed": true,
        "outputId": "b5a9b521-1a8c-4b05-8508-70be58369467"
      },
      "execution_count": 16,
      "outputs": [
        {
          "output_type": "stream",
          "name": "stdout",
          "text": [
            "0\n",
            "1\n",
            "2\n",
            "3\n",
            "4\n",
            "5\n",
            "6\n",
            "7\n",
            "8\n",
            "9\n",
            "10\n",
            "1\n",
            "2\n",
            "3\n",
            "4\n",
            "5\n",
            "*****\n",
            "*****\n",
            "*****\n",
            "*****\n",
            "*****\n"
          ]
        }
      ]
    },
    {
      "cell_type": "code",
      "source": [],
      "metadata": {
        "id": "UYPom7ofJIaT"
      },
      "execution_count": null,
      "outputs": []
    }
  ]
}