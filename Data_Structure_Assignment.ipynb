{
  "nbformat": 4,
  "nbformat_minor": 0,
  "metadata": {
    "colab": {
      "provenance": []
    },
    "kernelspec": {
      "name": "python3",
      "display_name": "Python 3"
    },
    "language_info": {
      "name": "python"
    }
  },
  "cells": [
    {
      "cell_type": "markdown",
      "source": [
        "#1) What are the data structutes, and why are they important?  \n",
        "Answer -  \n",
        "\n",
        "Data structures are the key fundamental concepts of a programming language they deal with how data is organized in the memory and provides an efficient way to manage and manipulate data.  \n",
        "Data structures are important in a programming language because they provide the data organization and make the language more reliable."
      ],
      "metadata": {
        "id": "2fLtOa6f-1-n"
      }
    },
    {
      "cell_type": "markdown",
      "source": [
        "#2)  Explain the difference between mutable and immutable data types with examples.  \n",
        "Answer -  \n",
        "\n",
        "Mutable Data Type - Mutable data types are those whose values can be changed after they created you can change and modifiy there content direclty without creating a new object.  \n",
        "Example - List, Dictionaries, Sets\n",
        "\n",
        "\n",
        "Immutable Data Type - Immutable Data types are those whose values can not be changed after they created and if you try to change or modify they value you appears to create an new object.  \n",
        "Example - Integers, Strings, Tuples."
      ],
      "metadata": {
        "id": "X6mqpHPJCRqQ"
      }
    },
    {
      "cell_type": "markdown",
      "source": [
        "#3)  What are the main differences between lists and tuples in Python.  \n",
        "Answer -  \n",
        "Lists  \n",
        "1) Lists are mutable - You can change the content of the list after it's created.  \n",
        "2) List provides the more built in methods that tuples as they are mutable.  \n",
        "3) Lists are usualy use when you need a collection of items that might change over time.  \n",
        "4) Lists are slightly slower that the tuples  \n",
        "5) Example: mylist = [1, \"what\", 'a', 12.55]  \n",
        "\n",
        "Tuples  \n",
        "1) Tuples are immutables - You can not change or modify the content of the tuples once they created.  \n",
        "2) Tuples have less built in methods primarily those for accessing information.  \n",
        "3) Tuples are used for collections of items that should not be modified.  \n",
        "4) Tuples are generally slightly faster than lists Due to their immutability  \n",
        "5) Example: mytuple = (1, \"what\", 'a', 12.55)\n",
        "\n"
      ],
      "metadata": {
        "id": "em5s27mgD69a"
      }
    },
    {
      "cell_type": "markdown",
      "source": [
        "#4) Describe how dictionaries store data.  \n",
        "\n",
        "Answer -  \n",
        "1)Dictionaries store the data in collections of unique keys and their associated values.  \n",
        "2)Each key must be unique within a dictionary. It acts as the identifier for the associated value.  \n",
        "3)Values can be of any data type in Python and can be duplicated.\n"
      ],
      "metadata": {
        "id": "PTm6DElgOnlq"
      }
    },
    {
      "cell_type": "markdown",
      "source": [
        "#5) Why might you use a set instead of a list in Python.  \n",
        "\n",
        "Answer -  \n",
        "1) Sets are the container for things where each value is unique.  \n",
        "2) on the other hand list is a container where the order of the values is matter and you can have the duplicate values.  \n",
        "3) We can use the set instead of list where we have to store only the Unique values.  \n",
        "4) we can also use the set where the order of the values inside the container is not important.  "
      ],
      "metadata": {
        "id": "1SXzHXBHQZi-"
      }
    },
    {
      "cell_type": "markdown",
      "source": [
        "#6)  What is a string in Python, and how is it different from a list.  \n",
        "\n",
        "Answer -  \n",
        "\n",
        "String - string is a sequence of characters. these characters can be letters, numbers etc, strings are used to represent the text in the python.  \n",
        "\n",
        "Difference -  \n",
        "1) String only contain characters each item in string is a single character\n",
        "2) Strings are immutable i.e. once you created an string you can not change a single character directly.  \n",
        "3) String primarily use for representing the textual data. but on other hand list are use as containter to store different different data types."
      ],
      "metadata": {
        "id": "WNjoPJitOmLN"
      }
    },
    {
      "cell_type": "markdown",
      "source": [
        "#7) How do tuples ensure data integrity in Python.  \n",
        "\n",
        "Answer -  \n",
        "\n",
        "1) Tuples ensure the data integrity due to its immutablity because once a tuple is created it can not be changed or modifiy.  \n",
        "2) Due to this characteristic the data stored within a tuple remains constant throughout its lifecycle."
      ],
      "metadata": {
        "id": "tZUZd1BZ3z2H"
      }
    },
    {
      "cell_type": "markdown",
      "source": [
        "#8) What is a hash table, and how does it relate to dictionaries in Python.  \n",
        "\n",
        "Answer -  \n",
        "1) Hash table is like a super-organized storage where items are placed into specific location based on the special labels.  \n",
        "2) Python Dictionaries use the hash table internally to store the key-pairs.\n"
      ],
      "metadata": {
        "id": "HsvRdVrA7vtQ"
      }
    },
    {
      "cell_type": "markdown",
      "source": [
        "#9)  Can lists contain different data types in Python.  \n",
        "\n",
        "Answer -  \n",
        "\n",
        "Yes in python list can contain the different types of data types in it.  \n",
        "Example: list1 = [25, 'a', \"hellow\", 25.5555, True]"
      ],
      "metadata": {
        "id": "LA_QVGuZ_8ID"
      }
    },
    {
      "cell_type": "markdown",
      "source": [
        "#10) Explain why strings are immutable in Python.  \n",
        "Answer -  \n",
        "1) Python can share the same string in memory if multiple variables uses it and if the strings are mutable this can cause the complexity.  \n",
        "2) String is a data type which uses very frequently and if it become mutable the chances of getting error gets increases.  \n"
      ],
      "metadata": {
        "id": "gezg0MXhAe6J"
      }
    },
    {
      "cell_type": "markdown",
      "source": [
        "#11)  What advantages do dictionaries offer over lists for certain tasks.  \n",
        "\n",
        "Answer -  \n",
        "1) When we need to quickly find the value of specific Key we use the dictionaries insted of lists.  \n",
        "2) When the order of items doesn't matter, but we need to associate unique labels with data, dictionaries provide a more natural and efficient way to store and access that information compared to lists.\n"
      ],
      "metadata": {
        "id": "KTYGO0nbAfIs"
      }
    },
    {
      "cell_type": "markdown",
      "source": [
        "#12)  Describe a scenario where using a tuple would be preferable over a list.  \n",
        "\n",
        "Answer -  \n",
        "When we have to deal with the spatial dataset where we have to work on the coordinates, longitudes and latitudes we can no change the values of these so in this case we can use the tuple insted of list because tuples are immutable."
      ],
      "metadata": {
        "id": "Qbjr8G0vAfXU"
      }
    },
    {
      "cell_type": "markdown",
      "source": [
        "#13)  How do sets handle duplicate values in Python.  \n",
        "\n",
        "Answer -  \n"
      ],
      "metadata": {
        "id": "VXlgKMF9Afkx"
      }
    },
    {
      "cell_type": "markdown",
      "source": [
        "#14) How does the “in” keyword work differently for lists and dictionaries.  \n",
        "\n",
        "Answer -  \n",
        "1) When you use \"in\" with a list it perform a liner search, it starts from the begining of the list and check all the elements until find the match or end of the list.  \n",
        "2) When you use \"in\" with dictionaries it check the specified value exists as a key in the dictionary adn due to hash table it check's very efficient."
      ],
      "metadata": {
        "id": "NKyDJ0edAfyS"
      }
    },
    {
      "cell_type": "markdown",
      "source": [
        "#15) Can you modify the elements of a tuple? Explain why or why not.  \n",
        "\n",
        "Answer -  \n",
        "No you can not change or modify the values of tuple once it created beacuse tupples are immutable i.e. means that once an immutable object is created, its internal state cannot be changed."
      ],
      "metadata": {
        "id": "kUpSFvLRQxyG"
      }
    },
    {
      "cell_type": "markdown",
      "source": [
        "#16)  What is a nested dictionary, and give an example of its use case.  \n",
        "\n",
        "Answer -  \n",
        "A nested dictionary is dictionary where the values associated with keys are themselves dictionary.\n",
        "\n",
        "Example -  \n",
        "A nested dictionary is usualy use to represente the complex and hierarchical data where the information is in the form of categories and sub-categories."
      ],
      "metadata": {
        "id": "ZN-pyZFkSde5"
      }
    },
    {
      "cell_type": "code",
      "source": [
        "student_data = {\n",
        "    \"Student1\":{\n",
        "        \"stream\": \"Science\",\n",
        "        \"grades\": {\"Math\":90, \"Physics\":80, \"Chemistry\":95}\n",
        "    },\n",
        "    \"Student2\":{\n",
        "        \"stream\":\"Commerce\",\n",
        "        \"grades\": {\"Accounts\":80, \"Economics\":90, \"business\":80}\n",
        "    }\n",
        "}"
      ],
      "metadata": {
        "id": "EG0O0JFqFl2u"
      },
      "execution_count": null,
      "outputs": []
    },
    {
      "cell_type": "markdown",
      "source": [
        "#17)  Describe the time complexity of accessing elements in a dictionary.  \n",
        "\n",
        "Answer -  \n",
        "The time complexity of asscessing elements in a dictionary is O(1), because the use of hash function to directly locate the value's memory address based on its key insted of search through the entire data."
      ],
      "metadata": {
        "id": "frUtUiIqSeZb"
      }
    },
    {
      "cell_type": "markdown",
      "source": [
        "#18)  In what situations are lists preferred over dictionaries.  \n",
        "\n",
        "Answer -  \n",
        "1) we preferred dictionaries over lists when we have the data in the form of individual value and not in the form of Key-Value pair.  \n",
        "2) we also preferred lists when the order of the data is important and we need to mantain that through out the process.  \n",
        "3) we can also use the list in over dictionaries when we have to accessed the elements by there index.  \n",
        "4) Also in the case when we have to iterate througt the elements in a specific order."
      ],
      "metadata": {
        "id": "aoBecSajSejQ"
      }
    },
    {
      "cell_type": "markdown",
      "source": [
        "#19) Why are dictionaries considered unordered, and how does that affect data retrieval.  \n",
        "\n",
        "Answer -  \n",
        "1) Dictionaries use hash tables, where item placement depends on the key's hash, not insertion sequence.  \n",
        "2) The design optimizes for quick retrieval using keys not by their order.  \n"
      ],
      "metadata": {
        "id": "5hYOEFRtSeqf"
      }
    },
    {
      "cell_type": "markdown",
      "source": [
        "#20) Explain the difference between a list and a dictionary in terms of data retrieval.  \n",
        "\n",
        "Answer -  \n",
        "1) List: Retrieval the data or an element by position(index).  \n",
        "2) Dictionary: Retrieval the element by unique key as the data store in the form of Key-Value pair.  \n",
        "3) Efficiency: The dictionarys retrieve fast that list as they work on hash and do not go througth the entire data to find the element.  \n",
        "4) Order Dependence: List retrive on the bases of order of elements but dictionary retrive on the Key-Value pair.  "
      ],
      "metadata": {
        "id": "A2ZTj2-5SeyN"
      }
    },
    {
      "cell_type": "markdown",
      "source": [
        "# Practical Questions"
      ],
      "metadata": {
        "id": "EpuSAIAg50Di"
      }
    },
    {
      "cell_type": "code",
      "source": [
        "# 1)  Write a code to create a string with your name and print it.\n",
        "\n",
        "name = \"Tarun Singh\"\n",
        "print(\"my name is\", name)"
      ],
      "metadata": {
        "colab": {
          "base_uri": "https://localhost:8080/"
        },
        "id": "dYi49r4SbGTH",
        "outputId": "34faab94-bfc8-455b-d78d-a32713044dcb"
      },
      "execution_count": null,
      "outputs": [
        {
          "output_type": "stream",
          "name": "stdout",
          "text": [
            "my name is Tarun Singh\n"
          ]
        }
      ]
    },
    {
      "cell_type": "code",
      "source": [
        "# 2) Write a code to find the length of the string \"Hello World\".\n",
        "\n",
        "string = \"Hello World\"\n",
        "print(\"length of the string is\", len(string))"
      ],
      "metadata": {
        "colab": {
          "base_uri": "https://localhost:8080/"
        },
        "id": "rKs64_W6bGgD",
        "outputId": "f985bdc2-dded-4b8c-c1cd-7212abd1f147"
      },
      "execution_count": null,
      "outputs": [
        {
          "output_type": "stream",
          "name": "stdout",
          "text": [
            "length of the string is 11\n"
          ]
        }
      ]
    },
    {
      "cell_type": "code",
      "source": [
        "# 3)  Write a code to slice the first 3 characters from the string \"Python Programming\".\n",
        "\n",
        "testStr = \"Python Programming\"\n",
        "print(\"3 characters of string:\", testStr[:3])"
      ],
      "metadata": {
        "colab": {
          "base_uri": "https://localhost:8080/"
        },
        "id": "a9OSNo0ubGq0",
        "outputId": "3d9ab4cb-e78f-489b-a4a4-64960d284437"
      },
      "execution_count": null,
      "outputs": [
        {
          "output_type": "stream",
          "name": "stdout",
          "text": [
            "3 characters of string: Pyt\n"
          ]
        }
      ]
    },
    {
      "cell_type": "code",
      "source": [
        "# 4)  Write a code to convert the string \"hello\" to uppercase.\n",
        "\n",
        "testStr = \"hellow\"\n",
        "print(\"Uppercase:\", testStr.upper())"
      ],
      "metadata": {
        "colab": {
          "base_uri": "https://localhost:8080/"
        },
        "id": "EyIvMqU5bGtX",
        "outputId": "f546181e-88dd-485f-e7c2-f3838cd2df95"
      },
      "execution_count": null,
      "outputs": [
        {
          "output_type": "stream",
          "name": "stdout",
          "text": [
            "Uppercase: HELLOW\n"
          ]
        }
      ]
    },
    {
      "cell_type": "code",
      "source": [
        "# 5) Write a code to replace the word \"apple\" with \"orange\" in the string \"I like apple\".\n",
        "\n",
        "testStr = \"I like apple\"\n",
        "print(\"After replacing:\", testStr.replace(\"apple\", \"orange\"))"
      ],
      "metadata": {
        "colab": {
          "base_uri": "https://localhost:8080/"
        },
        "id": "i0QWEgY8bGwC",
        "outputId": "d56d5564-4d1f-456a-c850-00e5b441a429"
      },
      "execution_count": null,
      "outputs": [
        {
          "output_type": "stream",
          "name": "stdout",
          "text": [
            "After replacing: I like orange\n"
          ]
        }
      ]
    },
    {
      "cell_type": "code",
      "source": [
        "# 6) Write a code to create a list with numbers 1 to 5 and print it.\n",
        "\n",
        "testLst = [1,2,3,4,5]\n",
        "print(testLst)\n",
        "\n",
        "for i in testLst:\n",
        "  print(i)"
      ],
      "metadata": {
        "colab": {
          "base_uri": "https://localhost:8080/"
        },
        "id": "as-sZWJsbGyn",
        "outputId": "1d5e7c58-fbf3-4eee-ce04-cf472b86cf21"
      },
      "execution_count": null,
      "outputs": [
        {
          "output_type": "stream",
          "name": "stdout",
          "text": [
            "[1, 2, 3, 4, 5]\n",
            "1\n",
            "2\n",
            "3\n",
            "4\n",
            "5\n"
          ]
        }
      ]
    },
    {
      "cell_type": "code",
      "source": [
        "# 7) Write a code to append the number 10 to the list [1, 2, 3, 4].\n",
        "\n",
        "testLst = [1,2,3,4]\n",
        "testLst.append(10)\n",
        "print(testLst)"
      ],
      "metadata": {
        "colab": {
          "base_uri": "https://localhost:8080/"
        },
        "id": "KxxGqWfmbG1H",
        "outputId": "af7fa353-c890-4e30-adde-2be524bbe010"
      },
      "execution_count": null,
      "outputs": [
        {
          "output_type": "stream",
          "name": "stdout",
          "text": [
            "[1, 2, 3, 4, 10]\n"
          ]
        }
      ]
    },
    {
      "cell_type": "code",
      "source": [
        "# 8)  Write a code to remove the number 3 from the list [1, 2, 3, 4, 5].\n",
        "\n",
        "testLst = [1,2,3,4,5]\n",
        "testLst.remove(3)\n",
        "print(testLst)"
      ],
      "metadata": {
        "colab": {
          "base_uri": "https://localhost:8080/"
        },
        "id": "cXBgA_6QbG5e",
        "outputId": "1ab22a61-b6b8-4553-f930-3a3f89adc1a5"
      },
      "execution_count": null,
      "outputs": [
        {
          "output_type": "stream",
          "name": "stdout",
          "text": [
            "[1, 2, 4, 5]\n"
          ]
        }
      ]
    },
    {
      "cell_type": "code",
      "source": [
        "# 9)  Write a code to access the second element in the list ['a', 'b', 'c', 'd'].\n",
        "\n",
        "testLst = ['a', 'b', 'c', 'd']\n",
        "print(testLst[1])"
      ],
      "metadata": {
        "colab": {
          "base_uri": "https://localhost:8080/"
        },
        "id": "pdtL2y-S8E4z",
        "outputId": "1345a1c1-6fda-4227-cf66-5e7fac75a230"
      },
      "execution_count": null,
      "outputs": [
        {
          "output_type": "stream",
          "name": "stdout",
          "text": [
            "b\n"
          ]
        }
      ]
    },
    {
      "cell_type": "code",
      "source": [
        "# 10)  Write a code to reverse the list [10, 20, 30, 40, 50].\n",
        "\n",
        "testLst = [10, 20, 30, 40, 50]\n",
        "testLst.reverse()\n",
        "print(testLst)"
      ],
      "metadata": {
        "colab": {
          "base_uri": "https://localhost:8080/"
        },
        "id": "d_ihR5tX8HMZ",
        "outputId": "2f2931ea-32f7-4c03-eba9-0ebf97e84e33"
      },
      "execution_count": null,
      "outputs": [
        {
          "output_type": "stream",
          "name": "stdout",
          "text": [
            "[50, 40, 30, 20, 10]\n"
          ]
        }
      ]
    },
    {
      "cell_type": "code",
      "source": [
        "# 11) Write a code to create a tuple with the elements 100, 200, 300 and print it.\n",
        "\n",
        "testTup = (100, 200, 300)\n",
        "print(testTup)\n",
        "\n",
        "for i in testTup:\n",
        "  print(i)"
      ],
      "metadata": {
        "colab": {
          "base_uri": "https://localhost:8080/"
        },
        "id": "P95pLjkL8pC-",
        "outputId": "a03192a9-83a8-47e3-dbbf-82dfed5146e3"
      },
      "execution_count": null,
      "outputs": [
        {
          "output_type": "stream",
          "name": "stdout",
          "text": [
            "(100, 200, 300)\n",
            "100\n",
            "200\n",
            "300\n"
          ]
        }
      ]
    },
    {
      "cell_type": "code",
      "source": [
        "# 12)  Write a code to access the second-to-last element of the tuple ('red', 'green', 'blue', 'yellow').\n",
        "\n",
        "testTup = ('red', 'green', 'blue', 'yellow')\n",
        "sec_to_lst = testTup[-2]\n",
        "print(sec_to_lst)"
      ],
      "metadata": {
        "colab": {
          "base_uri": "https://localhost:8080/"
        },
        "id": "XBQPoEX08rUR",
        "outputId": "4b3522e3-8aaf-4218-855b-1b0e86b08cb2"
      },
      "execution_count": null,
      "outputs": [
        {
          "output_type": "stream",
          "name": "stdout",
          "text": [
            "blue\n"
          ]
        }
      ]
    },
    {
      "cell_type": "code",
      "source": [
        "# 13) Write a code to find the minimum number in the tuple (10, 20, 5, 15).\n",
        "\n",
        "testTup = (10, 20, 5, 15)\n",
        "print(\"The minimum number:\", min(testTup))"
      ],
      "metadata": {
        "colab": {
          "base_uri": "https://localhost:8080/"
        },
        "id": "VLQJE1dQ8p5S",
        "outputId": "bd495d80-b84f-4fab-b75e-f4fd7ff77138"
      },
      "execution_count": null,
      "outputs": [
        {
          "output_type": "stream",
          "name": "stdout",
          "text": [
            "The minimum number: 5\n"
          ]
        }
      ]
    },
    {
      "cell_type": "code",
      "source": [
        "# 14) Write a code to find the index of the element \"cat\" in the tuple ('dog', 'cat', 'rabbit').\n",
        "\n",
        "testTup = ('dog', 'cat', 'rabbit')\n",
        "print(\"The index of cat:\", testTup.index('cat'))"
      ],
      "metadata": {
        "colab": {
          "base_uri": "https://localhost:8080/"
        },
        "id": "AZXY4Hts8p9N",
        "outputId": "eeee836f-a122-4953-98b5-c638e642ce2e"
      },
      "execution_count": null,
      "outputs": [
        {
          "output_type": "stream",
          "name": "stdout",
          "text": [
            "The index of cat: 1\n"
          ]
        }
      ]
    },
    {
      "cell_type": "code",
      "source": [
        "# 15) Write a code to create a tuple containing three different fruits and check if \"kiwi\" is in it.\n",
        "\n",
        "testTup = (\"apple\", \"kiwi\", \"orange\")\n",
        "for i in testTup:\n",
        "  if i == \"kiwi\":\n",
        "    print(\"Yes Kiwi is present\")"
      ],
      "metadata": {
        "colab": {
          "base_uri": "https://localhost:8080/"
        },
        "id": "DWxkWqM28qAR",
        "outputId": "122e4ed4-c88b-4e73-c0b0-79366e5e39d1"
      },
      "execution_count": null,
      "outputs": [
        {
          "output_type": "stream",
          "name": "stdout",
          "text": [
            "Yes Kiwi is present\n"
          ]
        }
      ]
    },
    {
      "cell_type": "code",
      "source": [
        "# 16)  Write a code to create a set with the elements 'a', 'b', 'c' and print it.\n",
        "\n",
        "testSet = {'a', 'b', 'c'}\n",
        "print(testSet)"
      ],
      "metadata": {
        "colab": {
          "base_uri": "https://localhost:8080/"
        },
        "id": "-lA6jXNm8qDo",
        "outputId": "00fb697a-97cd-41dd-c687-d0a89d5cd215"
      },
      "execution_count": null,
      "outputs": [
        {
          "output_type": "stream",
          "name": "stdout",
          "text": [
            "{'a', 'b', 'c'}\n"
          ]
        }
      ]
    },
    {
      "cell_type": "code",
      "source": [
        "# 17) Write a code to clear all elements from the set {1, 2, 3, 4, 5}.\n",
        "\n",
        "testSet = {1, 2, 3, 4, 5}\n",
        "testSet.clear()\n",
        "print(testSet)"
      ],
      "metadata": {
        "colab": {
          "base_uri": "https://localhost:8080/"
        },
        "id": "WTQ4SHa28qHS",
        "outputId": "26df6d3e-ac3e-4813-dfe6-c4eb9ca205fe"
      },
      "execution_count": null,
      "outputs": [
        {
          "output_type": "stream",
          "name": "stdout",
          "text": [
            "set()\n"
          ]
        }
      ]
    },
    {
      "cell_type": "code",
      "source": [
        "# 18) Write a code to remove the element 4 from the set {1, 2, 3, 4}.\n",
        "\n",
        "testSet = {1, 2, 3, 4}\n",
        "testSet.remove(4)\n",
        "print(testSet)"
      ],
      "metadata": {
        "colab": {
          "base_uri": "https://localhost:8080/"
        },
        "id": "O9EqZ9b68qKj",
        "outputId": "6b83dc00-85d7-4871-a7ea-88e2e7a90d67"
      },
      "execution_count": null,
      "outputs": [
        {
          "output_type": "stream",
          "name": "stdout",
          "text": [
            "{1, 2, 3}\n"
          ]
        }
      ]
    },
    {
      "cell_type": "code",
      "source": [
        "# 19)  Write a code to find the union of two sets {1, 2, 3} and {3, 4, 5}.\n",
        "\n",
        "testSet1 = {1, 2, 3}\n",
        "testSet2 = {3, 4, 5}\n",
        "union_set = testSet1.union(testSet2)\n",
        "print(union_set)"
      ],
      "metadata": {
        "colab": {
          "base_uri": "https://localhost:8080/"
        },
        "id": "9EgPHQX18qOD",
        "outputId": "8eb7952e-7af3-425d-d5b4-c44a162f7513"
      },
      "execution_count": null,
      "outputs": [
        {
          "output_type": "stream",
          "name": "stdout",
          "text": [
            "{1, 2, 3, 4, 5}\n"
          ]
        }
      ]
    },
    {
      "cell_type": "code",
      "source": [
        "# 20)  Write a code to find the intersection of two sets {1, 2, 3} and {2, 3, 4}.\n",
        "\n",
        "testSet1 = {1, 2, 3}\n",
        "testSet2 = {2, 3, 4}\n",
        "intersection_Set = testSet1.intersection(testSet2)\n",
        "print(intersection_Set)"
      ],
      "metadata": {
        "colab": {
          "base_uri": "https://localhost:8080/"
        },
        "id": "ougKCerb8qUq",
        "outputId": "1d349ba7-7500-468a-c980-ed6ac60b2ae9"
      },
      "execution_count": null,
      "outputs": [
        {
          "output_type": "stream",
          "name": "stdout",
          "text": [
            "{2, 3}\n"
          ]
        }
      ]
    },
    {
      "cell_type": "code",
      "source": [
        "# 21) Write a code to create a dictionary with the keys \"name\", \"age\", and \"city\", and print it.\n",
        "\n",
        "testDict = {\"name\": \"Tarun\",\n",
        "            \"age\": 22,\n",
        "            \"city\": \"Delhi\"}\n",
        "\n",
        "print(testDict)"
      ],
      "metadata": {
        "colab": {
          "base_uri": "https://localhost:8080/"
        },
        "id": "FyWuZ1aT8qY5",
        "outputId": "3a475836-35fc-4457-e001-aea7b5280f66"
      },
      "execution_count": null,
      "outputs": [
        {
          "output_type": "stream",
          "name": "stdout",
          "text": [
            "{'name': 'Tarun', 'age': 22, 'city': 'Delhi'}\n"
          ]
        }
      ]
    },
    {
      "cell_type": "code",
      "source": [
        "# 22)  Write a code to add a new key-value pair \"country\": \"USA\" to the dictionary {'name': 'John', 'age': 25}.\n",
        "\n",
        "testDict = {\"name\": \"John\",\n",
        "            \"age\": 25}\n",
        "\n",
        "testDict[\"country\"] = \"USA\"\n",
        "\n",
        "print(testDict)"
      ],
      "metadata": {
        "colab": {
          "base_uri": "https://localhost:8080/"
        },
        "id": "utBX2NfPArmW",
        "outputId": "bf99fadb-058b-4668-81b8-be570ed0880d"
      },
      "execution_count": null,
      "outputs": [
        {
          "output_type": "stream",
          "name": "stdout",
          "text": [
            "{'name': 'John', 'age': 25, 'country': 'USA'}\n"
          ]
        }
      ]
    },
    {
      "cell_type": "code",
      "source": [
        "# 23)  Write a code to access the value associated with the key \"name\" in the dictionary {'name': 'Alice', 'age': 30}.\n",
        "\n",
        "testDict = {'name': 'Alice',\n",
        "            'age': 30}\n",
        "\n",
        "print(testDict['name'])"
      ],
      "metadata": {
        "colab": {
          "base_uri": "https://localhost:8080/"
        },
        "id": "oz0aiPo1Astl",
        "outputId": "0a5e03a5-c077-4536-8675-822119231dcd"
      },
      "execution_count": null,
      "outputs": [
        {
          "output_type": "stream",
          "name": "stdout",
          "text": [
            "Alice\n"
          ]
        }
      ]
    },
    {
      "cell_type": "code",
      "source": [
        "# 24) Write a code to remove the key \"age\" from the dictionary {'name': 'Bob', 'age': 22, 'city': 'New York'}.\n",
        "\n",
        "testDict = {'name': 'Bob',\n",
        "            'age': 22,\n",
        "            'city': 'New York'}\n",
        "\n",
        "testDict.pop('age')\n",
        "\n",
        "print(testDict)"
      ],
      "metadata": {
        "colab": {
          "base_uri": "https://localhost:8080/"
        },
        "id": "nDK8XlELAtYK",
        "outputId": "0f03fa12-6b74-4dbf-8d89-ad40f63731a6"
      },
      "execution_count": null,
      "outputs": [
        {
          "output_type": "stream",
          "name": "stdout",
          "text": [
            "{'name': 'Bob', 'city': 'New York'}\n"
          ]
        }
      ]
    },
    {
      "cell_type": "code",
      "source": [
        "# 25)  Write a code to check if the key \"city\" exists in the dictionary {'name': 'Alice', 'city': 'Paris'}.\n",
        "\n",
        "testDict = {'name': 'Alice',\n",
        "            'city': 'Paris'}\n",
        "\n",
        "if 'city' in testDict:\n",
        "  print(\"Yes the city is present.\")\n",
        "else:\n",
        "  print(\"No the city is not present.\")"
      ],
      "metadata": {
        "colab": {
          "base_uri": "https://localhost:8080/"
        },
        "id": "zOB1R7vhAtbk",
        "outputId": "0942d602-6e23-4d6f-8aa7-fdb7c076f808"
      },
      "execution_count": null,
      "outputs": [
        {
          "output_type": "stream",
          "name": "stdout",
          "text": [
            "Yes the city is present.\n"
          ]
        }
      ]
    },
    {
      "cell_type": "code",
      "source": [
        "# 26) Write a code to create a list, a tuple, and a dictionary, and print them all.\n",
        "\n",
        "testLst = [1,2,3,4,5]\n",
        "testTup = (1,2,3,4,5)\n",
        "testDict = {\"name\": \"Tarun\",\n",
        "            \"age\": 22,\n",
        "            \"city\": \"Delhi\"}\n",
        "print(testLst)\n",
        "print(testTup)\n",
        "print(testDict)"
      ],
      "metadata": {
        "colab": {
          "base_uri": "https://localhost:8080/"
        },
        "id": "qkI71Ag1AtfF",
        "outputId": "fd1094a5-5c1a-4295-fdc8-6627c7b3aca4"
      },
      "execution_count": null,
      "outputs": [
        {
          "output_type": "stream",
          "name": "stdout",
          "text": [
            "[1, 2, 3, 4, 5]\n",
            "(1, 2, 3, 4, 5)\n",
            "{'name': 'Tarun', 'age': 22, 'city': 'Delhi'}\n"
          ]
        }
      ]
    },
    {
      "cell_type": "code",
      "source": [
        "# 27)  Write a code to create a list of 5 random numbers between 1 and 100, sort it in ascending order, and print the result.\n",
        "import random\n",
        "random_num = [random.randint(1, 100) for _ in range(5)]\n",
        "random_num.sort()\n",
        "print(random_num)"
      ],
      "metadata": {
        "colab": {
          "base_uri": "https://localhost:8080/"
        },
        "id": "Yt5MfSSCAtid",
        "outputId": "af48e5b0-89ff-4bf3-9aff-4615f9458306"
      },
      "execution_count": null,
      "outputs": [
        {
          "output_type": "stream",
          "name": "stdout",
          "text": [
            "[22, 25, 44, 54, 94]\n"
          ]
        }
      ]
    },
    {
      "cell_type": "code",
      "source": [
        "# 28)  Write a code to create a list with strings and print the element at the third index.\n",
        "\n",
        "testLst = ['car', 'bus', 'apple', 'metro', 'bike']\n",
        "print(testLst[2])"
      ],
      "metadata": {
        "colab": {
          "base_uri": "https://localhost:8080/"
        },
        "id": "4UcpVsE2Atlp",
        "outputId": "8d848c49-0bf3-4e22-cafe-8d6fbfcad15a"
      },
      "execution_count": null,
      "outputs": [
        {
          "output_type": "stream",
          "name": "stdout",
          "text": [
            "apple\n"
          ]
        }
      ]
    },
    {
      "cell_type": "code",
      "source": [
        "# 29)  Write a code to combine two dictionaries into one and print the result.\n",
        "\n",
        "testDict1 = {'name': 'john',\n",
        "             'age': 55}\n",
        "testDict2 = {'city': 'New York',\n",
        "            'country': 'USA'}\n",
        "testDict1.update(testDict2)\n",
        "print(testDict1)"
      ],
      "metadata": {
        "colab": {
          "base_uri": "https://localhost:8080/"
        },
        "id": "c6stFzFcAto7",
        "outputId": "97359541-7d1b-490e-91f2-91d1bc3ee145"
      },
      "execution_count": null,
      "outputs": [
        {
          "output_type": "stream",
          "name": "stdout",
          "text": [
            "{'name': 'john', 'age': 55, 'city': 'New York', 'country': 'USA'}\n"
          ]
        }
      ]
    },
    {
      "cell_type": "code",
      "source": [
        "# 30)  Write a code to convert a list of strings into a set.\n",
        "\n",
        "testLst = ['car', 'bus', 'apple', 'metro', 'bike']\n",
        "testSet = set(testLst)\n",
        "print(testSet)\n",
        "print(type(testSet))"
      ],
      "metadata": {
        "colab": {
          "base_uri": "https://localhost:8080/"
        },
        "id": "pWhwxmaYEEDw",
        "outputId": "ebc74f51-98b8-4b2f-9d7e-c28075334dfe"
      },
      "execution_count": null,
      "outputs": [
        {
          "output_type": "stream",
          "name": "stdout",
          "text": [
            "{'car', 'bus', 'metro', 'bike', 'apple'}\n",
            "<class 'set'>\n"
          ]
        }
      ]
    },
    {
      "cell_type": "code",
      "source": [],
      "metadata": {
        "id": "tOEpHw05E7Hj"
      },
      "execution_count": null,
      "outputs": []
    }
  ]
}